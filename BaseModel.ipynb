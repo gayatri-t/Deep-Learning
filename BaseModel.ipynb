{
 "cells": [
  {
   "cell_type": "code",
   "execution_count": null,
   "id": "82e87f72-b5b2-4ad2-b0c7-e3d3ad70286b",
   "metadata": {},
   "outputs": [],
   "source": [
    "# BASE MODEL "
   ]
  },
  {
   "cell_type": "code",
   "execution_count": 6,
   "id": "bc73a828-ce8a-4dee-abc5-50804e130221",
   "metadata": {},
   "outputs": [
    {
     "name": "stderr",
     "output_type": "stream",
     "text": [
      "Some weights of DistilBertForQuestionAnswering were not initialized from the model checkpoint at distilbert-base-uncased and are newly initialized: ['qa_outputs.bias', 'qa_outputs.weight']\n",
      "You should probably TRAIN this model on a down-stream task to be able to use it for predictions and inference.\n",
      "Training: 100%|██████████| 2320/2320 [09:18<00:00,  4.15it/s]\n",
      "Evaluating: 100%|██████████| 15875/15875 [02:03<00:00, 128.85it/s]\n"
     ]
    },
    {
     "name": "stdout",
     "output_type": "stream",
     "text": [
      "Epoch 1/5, Train Loss: 5.872068548819114, WER Score: 14.545863414116578\n"
     ]
    },
    {
     "name": "stderr",
     "output_type": "stream",
     "text": [
      "Training: 100%|██████████| 2320/2320 [09:18<00:00,  4.15it/s]\n",
      "Evaluating: 100%|██████████| 15875/15875 [01:56<00:00, 135.71it/s]\n"
     ]
    },
    {
     "name": "stdout",
     "output_type": "stream",
     "text": [
      "Epoch 2/5, Train Loss: 5.353944472814429, WER Score: 3.5266719288784265\n"
     ]
    },
    {
     "name": "stderr",
     "output_type": "stream",
     "text": [
      "Training: 100%|██████████| 2320/2320 [09:19<00:00,  4.15it/s]\n",
      "Evaluating: 100%|██████████| 15875/15875 [01:54<00:00, 138.84it/s]\n"
     ]
    },
    {
     "name": "stdout",
     "output_type": "stream",
     "text": [
      "Epoch 3/5, Train Loss: 4.823115943423633, WER Score: 2.6733518694144633\n"
     ]
    },
    {
     "name": "stderr",
     "output_type": "stream",
     "text": [
      "Training: 100%|██████████| 2320/2320 [09:18<00:00,  4.15it/s]\n",
      "Evaluating: 100%|██████████| 15875/15875 [01:57<00:00, 135.56it/s]\n"
     ]
    },
    {
     "name": "stdout",
     "output_type": "stream",
     "text": [
      "Epoch 4/5, Train Loss: 4.363082417331893, WER Score: 2.0523018580566452\n"
     ]
    },
    {
     "name": "stderr",
     "output_type": "stream",
     "text": [
      "Training: 100%|██████████| 2320/2320 [09:18<00:00,  4.15it/s]\n",
      "Evaluating: 100%|██████████| 15875/15875 [01:57<00:00, 135.51it/s]"
     ]
    },
    {
     "name": "stdout",
     "output_type": "stream",
     "text": [
      "Epoch 5/5, Train Loss: 4.024793861755009, WER Score: 2.1047314573792426\n"
     ]
    },
    {
     "name": "stderr",
     "output_type": "stream",
     "text": [
      "\n"
     ]
    }
   ],
   "source": [
    "import torch\n",
    "import json\n",
    "from transformers import DistilBertTokenizerFast, DistilBertForQuestionAnswering, AdamW\n",
    "from torch.utils.data import Dataset, DataLoader\n",
    "from tqdm import tqdm\n",
    "import jiwer\n",
    "import logging\n",
    "\n",
    "logging.basicConfig(level=logging.INFO)\n",
    "logger = logging.getLogger(__name__)\n",
    "\n",
    "device = torch.device('cuda') if torch.cuda.is_available() else torch.device('cpu')\n",
    "\n",
    "def load_data_file(path):\n",
    "    try:\n",
    "        with open(path, 'r', encoding='utf-8') as f:  \n",
    "            raw_data = json.load(f)\n",
    "    except FileNotFoundError:\n",
    "        logger.error(f\"File not found: {path}\")\n",
    "        raise\n",
    "\n",
    "    contexts = []\n",
    "    questions = []\n",
    "    answers = []\n",
    "    num_questions = 0\n",
    "    num_possible = 0\n",
    "    num_impossible = 0\n",
    "\n",
    "    for group in raw_data['data']:\n",
    "        for paragraph in group['paragraphs']:\n",
    "            context = paragraph['context']\n",
    "            for qa in paragraph['qas']:\n",
    "                question = qa['question']\n",
    "                num_questions += 1\n",
    "                if 'is_impossible' in qa and qa['is_impossible']:\n",
    "                    num_impossible += 1\n",
    "                else:\n",
    "                    num_possible += 1\n",
    "                for answer in qa.get('answers', []):\n",
    "                    contexts.append(context.lower())\n",
    "                    questions.append(question.lower())\n",
    "                    answers.append(answer)\n",
    "\n",
    "    return num_questions, num_possible, num_impossible, contexts, questions, answers\n",
    "\n",
    "try:\n",
    "    num_train_questions, num_train_possible, num_train_impossible, train_contexts, train_questions, train_answers = load_data_file('spoken_train-v1.1.json')\n",
    "    num_valid_questions, num_valid_possible, num_valid_impossible, valid_contexts, valid_questions, valid_answers = load_data_file('spoken_test-v1.1.json')\n",
    "except Exception as e:\n",
    "    logger.error(f\"Error loading data: {e}\")\n",
    "    exit()\n",
    "\n",
    "def add_answer_end_positions(answers, contexts):\n",
    "    for answer, context in zip(answers, contexts):\n",
    "        answer_text = answer.get('text', '').lower()\n",
    "        answer_start = answer.get('answer_start', -1)\n",
    "        answer['answer_end'] = answer_start + len(answer_text)\n",
    "\n",
    "add_answer_end_positions(train_answers, train_contexts)\n",
    "add_answer_end_positions(valid_answers, valid_contexts)\n",
    "\n",
    "MAX_LENGTH = 512\n",
    "MODEL_PATH = \"distilbert-base-uncased\"\n",
    "\n",
    "tokenizer = DistilBertTokenizerFast.from_pretrained(MODEL_PATH)\n",
    "\n",
    "train_encodings = tokenizer(train_questions, train_contexts, max_length=MAX_LENGTH, padding=True, truncation=True)\n",
    "valid_encodings = tokenizer(valid_questions, valid_contexts, max_length=MAX_LENGTH, padding=True, truncation=True)\n",
    "\n",
    "class QADataset(Dataset):\n",
    "    def __init__(self, encodings, answers):\n",
    "        self.encodings = encodings\n",
    "        self.answers = answers\n",
    "\n",
    "    def __getitem__(self, idx):\n",
    "        item = {key: torch.tensor(val[idx]) for key, val in self.encodings.items()}\n",
    "        item['start_positions'] = torch.tensor(self.answers[idx].get('answer_start', -1))\n",
    "        item['end_positions'] = torch.tensor(self.answers[idx].get('answer_end', -1))\n",
    "        return item\n",
    "\n",
    "    def __len__(self):\n",
    "        return len(self.encodings.input_ids)\n",
    "\n",
    "train_dataset = QADataset(train_encodings, train_answers)\n",
    "valid_dataset = QADataset(valid_encodings, valid_answers)\n",
    "\n",
    "train_loader = DataLoader(train_dataset, batch_size=16, shuffle=True)\n",
    "valid_loader = DataLoader(valid_dataset, batch_size=1)\n",
    "\n",
    "qa_model = DistilBertForQuestionAnswering.from_pretrained(MODEL_PATH).to(device)\n",
    "\n",
    "optimizer = torch.optim.AdamW(qa_model.parameters(), lr=5e-5)\n",
    "\n",
    "def train_one_epoch(model, dataloader, optimizer):\n",
    "    model.train()\n",
    "    total_loss = 0.0\n",
    "    for batch in tqdm(train_loader, desc='Training'):\n",
    "        optimizer.zero_grad()\n",
    "        input_ids = batch['input_ids'].to(device)\n",
    "        attention_mask = batch['attention_mask'].to(device)\n",
    "        start_positions = batch['start_positions'].to(device)\n",
    "        end_positions = batch['end_positions'].to(device)\n",
    "        \n",
    "        inputs_embeds = None  \n",
    "        \n",
    "        outputs = model(input_ids=input_ids, attention_mask=attention_mask, \n",
    "                        start_positions=start_positions, end_positions=end_positions,\n",
    "                        inputs_embeds=inputs_embeds)\n",
    "        loss = outputs.loss\n",
    "        total_loss += loss.item()\n",
    "        loss.backward()\n",
    "        optimizer.step()\n",
    "\n",
    "    return total_loss / len(dataloader)\n",
    "\n",
    "def evaluate_model(model, dataloader):\n",
    "    model.eval()\n",
    "    wer_list = []\n",
    "    for batch in tqdm(dataloader, desc='Evaluating'):\n",
    "        input_ids = batch['input_ids'].to(device)\n",
    "        attention_mask = batch['attention_mask'].to(device)\n",
    "        start_true = batch['start_positions'].to(device)\n",
    "        end_true = batch['end_positions'].to(device)\n",
    "        with torch.no_grad():\n",
    "            outputs = model(input_ids=input_ids, attention_mask=attention_mask)\n",
    "        start_pred = torch.argmax(outputs.start_logits, dim=1)\n",
    "        end_pred = torch.argmax(outputs.end_logits, dim=1)\n",
    "        for i in range(len(start_true)):\n",
    "            pred_answer = tokenizer.decode(input_ids[i][start_pred[i]:end_pred[i]+1])\n",
    "            true_answer = tokenizer.decode(input_ids[i][start_true[i]:end_true[i]+1])\n",
    "            if true_answer.strip():  \n",
    "                wer = jiwer.wer(true_answer, pred_answer)\n",
    "                wer_list.append(wer)\n",
    "    return sum(wer_list) / len(wer_list) if wer_list else 0.0\n",
    "\n",
    "EPOCHS = 5\n",
    "best_wer = float('inf')\n",
    "patience = 3\n",
    "counter = 0\n",
    "\n",
    "for epoch in range(EPOCHS):\n",
    "    train_loss = train_one_epoch(qa_model, train_loader, optimizer)\n",
    "    wer_score = evaluate_model(qa_model, valid_loader)\n",
    "    logger.info(f\"Epoch {epoch+1}/{EPOCHS}, Train Loss: {train_loss}, WER Score: {wer_score}\")\n",
    "\n",
    "    if wer_score < best_wer:\n",
    "        best_wer = wer_score\n",
    "        counter = 0\n",
    "    else:\n",
    "        counter += 1\n",
    "        if counter >= patience:\n",
    "            logger.info(\"Early stopping triggered!\")\n",
    "            break\n"
   ]
  },
  {
   "cell_type": "code",
   "execution_count": null,
   "id": "81100d96-1b6e-4801-be3d-eb18c5ebc90a",
   "metadata": {},
   "outputs": [],
   "source": []
  }
 ],
 "metadata": {
  "kernelspec": {
   "display_name": "Python 3 (ipykernel)",
   "language": "python",
   "name": "python3"
  },
  "language_info": {
   "codemirror_mode": {
    "name": "ipython",
    "version": 3
   },
   "file_extension": ".py",
   "mimetype": "text/x-python",
   "name": "python",
   "nbconvert_exporter": "python",
   "pygments_lexer": "ipython3",
   "version": "3.9.12"
  }
 },
 "nbformat": 4,
 "nbformat_minor": 5
}
