{
 "cells": [
  {
   "cell_type": "code",
   "execution_count": 1,
   "id": "44e56bf7-d221-4135-9dc9-78f0537a3a83",
   "metadata": {},
   "outputs": [
    {
     "name": "stderr",
     "output_type": "stream",
     "text": [
      "Token indices sequence length is longer than the specified maximum sequence length for this model (593 > 512). Running this sequence through the model will result in indexing errors\n",
      "Some weights of DistilBertForQuestionAnswering were not initialized from the model checkpoint at distilbert-base-uncased and are newly initialized: ['qa_outputs.bias', 'qa_outputs.weight']\n",
      "You should probably TRAIN this model on a down-stream task to be able to use it for predictions and inference.\n",
      "Training: 100%|██████████| 2320/2320 [09:21<00:00,  4.13it/s]\n",
      "Evaluating: 100%|██████████| 15875/15875 [01:51<00:00, 142.31it/s]\n"
     ]
    },
    {
     "name": "stdout",
     "output_type": "stream",
     "text": [
      "Epoch 1/5, Train Loss: 6.1342762996410505, WER Score: 0.9641070435956484\n"
     ]
    },
    {
     "name": "stderr",
     "output_type": "stream",
     "text": [
      "Training: 100%|██████████| 2320/2320 [09:21<00:00,  4.13it/s]\n",
      "Evaluating: 100%|██████████| 15875/15875 [01:51<00:00, 142.11it/s]\n"
     ]
    },
    {
     "name": "stdout",
     "output_type": "stream",
     "text": [
      "Epoch 2/5, Train Loss: 5.7533531577422705, WER Score: 2.064479116778513\n"
     ]
    },
    {
     "name": "stderr",
     "output_type": "stream",
     "text": [
      "Training: 100%|██████████| 2320/2320 [09:21<00:00,  4.14it/s]\n",
      "Evaluating: 100%|██████████| 15875/15875 [01:51<00:00, 142.19it/s]\n"
     ]
    },
    {
     "name": "stdout",
     "output_type": "stream",
     "text": [
      "Epoch 3/5, Train Loss: 5.303590876994462, WER Score: 1.8931696660936896\n"
     ]
    },
    {
     "name": "stderr",
     "output_type": "stream",
     "text": [
      "Training: 100%|██████████| 2320/2320 [09:21<00:00,  4.13it/s]\n",
      "Evaluating: 100%|██████████| 15875/15875 [01:51<00:00, 142.20it/s]\n"
     ]
    },
    {
     "name": "stdout",
     "output_type": "stream",
     "text": [
      "Epoch 4/5, Train Loss: 4.8176230190129115, WER Score: 1.7413589912602025\n"
     ]
    },
    {
     "name": "stderr",
     "output_type": "stream",
     "text": [
      "Training: 100%|██████████| 2320/2320 [09:21<00:00,  4.14it/s]\n",
      "Evaluating: 100%|██████████| 15875/15875 [01:51<00:00, 142.53it/s]"
     ]
    },
    {
     "name": "stdout",
     "output_type": "stream",
     "text": [
      "Epoch 5/5, Train Loss: 4.37652979071798, WER Score: 1.5469436132324732\n"
     ]
    },
    {
     "name": "stderr",
     "output_type": "stream",
     "text": [
      "\n"
     ]
    }
   ],
   "source": [
    "import torch\n",
    "import json\n",
    "from transformers import DistilBertTokenizerFast, DistilBertForQuestionAnswering\n",
    "from torch.utils.data import Dataset, DataLoader\n",
    "from tqdm import tqdm\n",
    "from torch.optim import AdamW\n",
    "import jiwer\n",
    "\n",
    "device = torch.device('cuda') if torch.cuda.is_available() else torch.device('cpu')\n",
    "\n",
    "def load_data_file(path):\n",
    "    with open(path, 'rb') as f:\n",
    "        raw_data = json.load(f)\n",
    "    contexts = []\n",
    "    questions = []\n",
    "    answers = []\n",
    "\n",
    "    for group in raw_data['data']:\n",
    "        for paragraph in group['paragraphs']:\n",
    "            context = paragraph['context']\n",
    "            for qa in paragraph['qas']:\n",
    "                question = qa['question']\n",
    "                for answer in qa['answers']:\n",
    "                    contexts.append(context.lower())\n",
    "                    questions.append(question.lower())\n",
    "                    answers.append(answer)\n",
    "\n",
    "    return contexts, questions, answers\n",
    "\n",
    "def add_answer_end_positions(answers, contexts):\n",
    "    for answer, context in zip(answers, contexts):\n",
    "        answer['text'] = answer['text'].lower()\n",
    "        answer['answer_end'] = answer['answer_start'] + len(answer['text'])\n",
    "\n",
    "def preprocess_data(contexts, questions, answers, tokenizer, max_length):\n",
    "    encodings = tokenizer(questions, contexts, max_length=max_length, padding='max_length', truncation=True)\n",
    "    start_positions = []\n",
    "    end_positions = []\n",
    "\n",
    "    for i, (answer, context) in enumerate(zip(answers, contexts)):\n",
    "        context_ids = encodings['input_ids'][i]\n",
    "        answer_start = answer['answer_start']\n",
    "        answer_end = answer['answer_end']\n",
    "\n",
    "        # Convert answer's start/end positions in paragraph text to start/end positions in tokenized paragraph\n",
    "        answer_start_token = tokenizer.convert_tokens_to_ids(tokenizer.tokenize(context[:answer_start]))\n",
    "        answer_end_token = tokenizer.convert_tokens_to_ids(tokenizer.tokenize(context[:answer_end]))\n",
    "\n",
    "        # Ensure the answer is within the tokenized context\n",
    "        if len(answer_start_token) == 0 or len(answer_end_token) == 0:\n",
    "            start_positions.append(0)\n",
    "            end_positions.append(0)\n",
    "            continue\n",
    "\n",
    "        # Calculate the middle of the answer span\n",
    "        mid = (answer_start_token[0] + answer_end_token[0]) // 2\n",
    "\n",
    "        # A single window is obtained by slicing the portion of paragraph containing the answer\n",
    "        paragraph_start = max(0, min(mid - max_length // 2, len(context_ids) - max_length))\n",
    "        paragraph_end = paragraph_start + max_length\n",
    "\n",
    "        start_positions.append(answer_start - paragraph_start)\n",
    "        end_positions.append(answer_end - paragraph_start)\n",
    "\n",
    "    encodings.update({'start_positions': start_positions, 'end_positions': end_positions})\n",
    "    return encodings\n",
    "\n",
    "class QADataset(Dataset):\n",
    "    def __init__(self, encodings):\n",
    "        self.encodings = encodings\n",
    "\n",
    "    def __getitem__(self, idx):\n",
    "        return {key: torch.tensor(val[idx]) for key, val in self.encodings.items()}\n",
    "\n",
    "    def __len__(self):\n",
    "        return len(self.encodings.input_ids)\n",
    "\n",
    "train_contexts, train_questions, train_answers = load_data_file('spoken_train-v1.1.json')\n",
    "valid_contexts, valid_questions, valid_answers = load_data_file('spoken_test-v1.1.json')\n",
    "\n",
    "add_answer_end_positions(train_answers, train_contexts)\n",
    "add_answer_end_positions(valid_answers, valid_contexts)\n",
    "\n",
    "MAX_LENGTH = 512\n",
    "MODEL_PATH = \"distilbert-base-uncased\"\n",
    "\n",
    "tokenizer = DistilBertTokenizerFast.from_pretrained(MODEL_PATH)\n",
    "\n",
    "train_encodings = preprocess_data(train_contexts, train_questions, train_answers, tokenizer, MAX_LENGTH)\n",
    "valid_encodings = preprocess_data(valid_contexts, valid_questions, valid_answers, tokenizer, MAX_LENGTH)\n",
    "\n",
    "train_dataset = QADataset(train_encodings)\n",
    "valid_dataset = QADataset(valid_encodings)\n",
    "\n",
    "train_loader = DataLoader(train_dataset, batch_size=16, shuffle=True)\n",
    "valid_loader = DataLoader(valid_dataset, batch_size=1)\n",
    "\n",
    "distilbert_model = DistilBertForQuestionAnswering.from_pretrained(MODEL_PATH).to(device)\n",
    "\n",
    "optimizer = AdamW(distilbert_model.parameters(), lr=5e-5)\n",
    "\n",
    "def train_epoch(model, dataloader, optimizer):\n",
    "    model.train()\n",
    "    total_loss = 0.0\n",
    "    for batch in tqdm(dataloader, desc='Training'):\n",
    "        optimizer.zero_grad()\n",
    "        input_ids = batch['input_ids'].to(device)\n",
    "        attention_mask = batch['attention_mask'].to(device)\n",
    "        start_positions = batch['start_positions'].to(device)\n",
    "        end_positions = batch['end_positions'].to(device)\n",
    "        \n",
    "        outputs = model(input_ids=input_ids, attention_mask=attention_mask, \n",
    "                        start_positions=start_positions, end_positions=end_positions)\n",
    "        loss = outputs.loss\n",
    "        total_loss += loss.item()\n",
    "        loss.backward()\n",
    "        optimizer.step()\n",
    "\n",
    "    return total_loss / len(dataloader)\n",
    "\n",
    "def evaluate_model(model, dataloader):\n",
    "    model.eval()\n",
    "    wer_list = []\n",
    "    for batch in tqdm(dataloader, desc='Evaluating'):\n",
    "        input_ids = batch['input_ids'].to(device)\n",
    "        attention_mask = batch['attention_mask'].to(device)\n",
    "        start_true = batch['start_positions'].to(device)\n",
    "        end_true = batch['end_positions'].to(device)\n",
    "        with torch.no_grad():\n",
    "            outputs = model(input_ids=input_ids, attention_mask=attention_mask)\n",
    "        start_pred = torch.argmax(outputs.start_logits, dim=1)\n",
    "        end_pred = torch.argmax(outputs.end_logits, dim=1)\n",
    "        for i in range(len(start_true)):\n",
    "            pred_answer = tokenizer.decode(input_ids[i][start_pred[i]:end_pred[i]+1])\n",
    "            true_answer = tokenizer.decode(input_ids[i][start_true[i]:end_true[i]+1])\n",
    "            if true_answer.strip():  # Check if true_answer is not empty\n",
    "                wer = jiwer.wer(true_answer, pred_answer)\n",
    "                wer_list.append(wer)\n",
    "    return sum(wer_list) / len(wer_list) if wer_list else 0.0\n",
    "\n",
    "def answer_question(data, output):\n",
    "    answer = \"\"\n",
    "    max_prob = float(\"-inf\")\n",
    "    num_of_windows = data[0].shape[1]\n",
    "\n",
    "    for k in range(num_of_windows):\n",
    "        # Obtain answer by choosing the most probable start position / end position\n",
    "        start_prob, start_index = torch.max(output.start_logits[k], dim=0)\n",
    "        end_prob, end_index = torch.max(output.end_logits[k], dim=0)\n",
    "\n",
    "        # Probability of answer is calculated as sum of start prob and end prob\n",
    "        prob = start_prob + end_prob\n",
    "\n",
    "        # Replace answer if calculated probability is larger than previous windows\n",
    "        if prob > max_prob:\n",
    "            max_prob = prob\n",
    "            # Convert tokens to chars\n",
    "            answer = tokenizer.decode(data[0][0][k][start_index:end_index + 1])\n",
    "            # Remove spaces in answer\n",
    "            answer = answer.replace(' ', '')\n",
    "    return answer\n",
    "\n",
    "EPOCHS = 5\n",
    "for epoch in range(EPOCHS):\n",
    "    train_loss = train_epoch(distilbert_model, train_loader, optimizer)\n",
    "    wer_score = evaluate_model(distilbert_model, valid_loader)\n",
    "    print(f\"Epoch {epoch+1}/{EPOCHS}, Train Loss: {train_loss}, WER Score: {wer_score}\")\n",
    "\n"
   ]
  },
  {
   "cell_type": "code",
   "execution_count": null,
   "id": "5aa25122-3f4c-4fb9-8872-37471dcc7408",
   "metadata": {},
   "outputs": [],
   "source": []
  }
 ],
 "metadata": {
  "kernelspec": {
   "display_name": "Python 3 (ipykernel)",
   "language": "python",
   "name": "python3"
  },
  "language_info": {
   "codemirror_mode": {
    "name": "ipython",
    "version": 3
   },
   "file_extension": ".py",
   "mimetype": "text/x-python",
   "name": "python",
   "nbconvert_exporter": "python",
   "pygments_lexer": "ipython3",
   "version": "3.9.12"
  }
 },
 "nbformat": 4,
 "nbformat_minor": 5
}
