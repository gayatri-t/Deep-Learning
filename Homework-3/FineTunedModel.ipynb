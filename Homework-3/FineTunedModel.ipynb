{
 "cells": [
  {
   "cell_type": "code",
   "execution_count": null,
   "id": "b785f15d-b822-42f1-903c-551f054737e7",
   "metadata": {},
   "outputs": [],
   "source": [
    "# FINETUNING \n",
    "# Creates a linear scheduler for the optimizer/ Doc stride/ Gradient Accumulation"
   ]
  },
  {
   "cell_type": "code",
   "execution_count": 2,
   "id": "9309eadb-764c-4e7a-80e4-245cae852d5b",
   "metadata": {},
   "outputs": [
    {
     "name": "stderr",
     "output_type": "stream",
     "text": [
      "Some weights of DistilBertForQuestionAnswering were not initialized from the model checkpoint at distilbert-base-uncased and are newly initialized: ['qa_outputs.bias', 'qa_outputs.weight']\n",
      "You should probably TRAIN this model on a down-stream task to be able to use it for predictions and inference.\n",
      "Training: 100%|██████████| 2320/2320 [09:18<00:00,  4.16it/s]\n",
      "Evaluating: 100%|██████████| 15875/15875 [02:27<00:00, 107.40it/s]\n"
     ]
    },
    {
     "name": "stdout",
     "output_type": "stream",
     "text": [
      "Epoch 1/5, Train Loss: 5.897547473167551, WER Score: 10.91984426194956\n"
     ]
    },
    {
     "name": "stderr",
     "output_type": "stream",
     "text": [
      "Training: 100%|██████████| 2320/2320 [09:18<00:00,  4.15it/s]\n",
      "Evaluating: 100%|██████████| 15875/15875 [02:27<00:00, 107.50it/s]\n"
     ]
    },
    {
     "name": "stdout",
     "output_type": "stream",
     "text": [
      "Epoch 2/5, Train Loss: 5.33816732949224, WER Score: 10.128574943269985\n"
     ]
    },
    {
     "name": "stderr",
     "output_type": "stream",
     "text": [
      "Training: 100%|██████████| 2320/2320 [09:18<00:00,  4.15it/s]\n",
      "Evaluating: 100%|██████████| 15875/15875 [02:21<00:00, 112.39it/s]\n"
     ]
    },
    {
     "name": "stdout",
     "output_type": "stream",
     "text": [
      "Epoch 3/5, Train Loss: 4.769730858453389, WER Score: 4.724774392011088\n"
     ]
    },
    {
     "name": "stderr",
     "output_type": "stream",
     "text": [
      "Training: 100%|██████████| 2320/2320 [09:18<00:00,  4.15it/s]\n",
      "Evaluating: 100%|██████████| 15875/15875 [02:18<00:00, 114.66it/s]\n"
     ]
    },
    {
     "name": "stdout",
     "output_type": "stream",
     "text": [
      "Epoch 4/5, Train Loss: 4.291139659388312, WER Score: 3.218864884354455\n"
     ]
    },
    {
     "name": "stderr",
     "output_type": "stream",
     "text": [
      "Training: 100%|██████████| 2320/2320 [09:18<00:00,  4.15it/s]\n",
      "Evaluating: 100%|██████████| 15875/15875 [02:18<00:00, 114.76it/s]"
     ]
    },
    {
     "name": "stdout",
     "output_type": "stream",
     "text": [
      "Epoch 5/5, Train Loss: 3.954296954233071, WER Score: 2.373607447415738\n"
     ]
    },
    {
     "name": "stderr",
     "output_type": "stream",
     "text": [
      "\n"
     ]
    }
   ],
   "source": [
    "import torch\n",
    "import json\n",
    "from transformers import DistilBertTokenizerFast, DistilBertForQuestionAnswering, AdamW, get_linear_schedule_with_warmup\n",
    "from torch.utils.data import Dataset, DataLoader\n",
    "from tqdm import tqdm\n",
    "from torch.optim import AdamW\n",
    "import jiwer\n",
    "\n",
    "device = torch.device('cuda') if torch.cuda.is_available() else torch.device('cpu')\n",
    "\n",
    "def load_data_file(path):\n",
    "    with open(path, 'r') as f:\n",
    "        raw_data = json.load(f)\n",
    "    contexts = []\n",
    "    questions = []\n",
    "    answers = []\n",
    "\n",
    "    for group in raw_data['data']:\n",
    "        for paragraph in group['paragraphs']:\n",
    "            context = paragraph['context']\n",
    "            for qa in paragraph['qas']:\n",
    "                question = qa['question']\n",
    "                for answer in qa['answers']:\n",
    "                    contexts.append(context.lower())\n",
    "                    questions.append(question.lower())\n",
    "                    answers.append(answer)\n",
    "\n",
    "    return contexts, questions, answers\n",
    "\n",
    "def add_answer_end_positions(answers, contexts):\n",
    "    for answer, context in zip(answers, contexts):\n",
    "        answer['text'] = answer['text'].lower()\n",
    "        answer['answer_end'] = answer['answer_start'] + len(answer['text'])\n",
    "\n",
    "def split_context(context, max_length, doc_stride):\n",
    "    # Split context into overlapping windows\n",
    "    tokenized_context = distilbert_tokenizer(context, max_length=max_length, padding='max_length', truncation=True, return_tensors='pt')\n",
    "    tokens = distilbert_tokenizer.convert_ids_to_tokens(tokenized_context['input_ids'][0])\n",
    "    windows = []\n",
    "    for i in range(0, len(tokens), doc_stride):\n",
    "        window = {'input_ids': tokenized_context['input_ids'][0][i:i+max_length],\n",
    "                  'attention_mask': tokenized_context['attention_mask'][0][i:i+max_length]}\n",
    "        windows.append(window)\n",
    "    return windows\n",
    "\n",
    "class QADataset(Dataset):\n",
    "    def __init__(self, encodings, answers):\n",
    "        self.encodings = encodings\n",
    "        self.answers = answers\n",
    "\n",
    "    def __getitem__(self, idx):\n",
    "        item = {key: torch.tensor(val[idx]) for key, val in self.encodings.items()}\n",
    "        item['start_positions'] = torch.tensor(self.answers[idx]['answer_start'])\n",
    "        item['end_positions'] = torch.tensor(self.answers[idx]['answer_end'])\n",
    "        return item\n",
    "\n",
    "    def __len__(self):\n",
    "        return len(self.encodings.input_ids)\n",
    "\n",
    "train_contexts, train_questions, train_answers = load_data_file('spoken_train-v1.1.json')\n",
    "valid_contexts, valid_questions, valid_answers = load_data_file('spoken_test-v1.1.json')\n",
    "\n",
    "add_answer_end_positions(train_answers, train_contexts)\n",
    "add_answer_end_positions(valid_answers, valid_contexts)\n",
    "\n",
    "MAX_LENGTH = 512\n",
    "MODEL_PATH = \"distilbert-base-uncased\"\n",
    "doc_stride = 128\n",
    "\n",
    "distilbert_tokenizer = DistilBertTokenizerFast.from_pretrained(MODEL_PATH)\n",
    "\n",
    "train_encodings_fast = distilbert_tokenizer(train_questions, train_contexts, max_length=MAX_LENGTH, padding='max_length', truncation=True)\n",
    "valid_encodings_fast = distilbert_tokenizer(valid_questions, valid_contexts, max_length=MAX_LENGTH, padding='max_length', truncation=True)\n",
    "\n",
    "train_dataset = QADataset(train_encodings_fast, train_answers)\n",
    "valid_dataset = QADataset(valid_encodings_fast, valid_answers)\n",
    "\n",
    "train_loader = DataLoader(train_dataset, batch_size=16, shuffle=True)\n",
    "valid_loader = DataLoader(valid_dataset, batch_size=1)\n",
    "\n",
    "distilbert_model = DistilBertForQuestionAnswering.from_pretrained(MODEL_PATH).to(device)\n",
    "\n",
    "optimizer = AdamW(distilbert_model.parameters(), lr=5e-5)\n",
    "\n",
    "EPOCHS = 5  \n",
    "total_steps = len(train_loader) * EPOCHS\n",
    "scheduler = get_linear_schedule_with_warmup(optimizer, num_warmup_steps=0, num_training_steps=total_steps)\n",
    "\n",
    "def train_epoch(model, dataloader, optimizer, scheduler):\n",
    "    model.train()\n",
    "    total_loss = 0.0\n",
    "    for batch in tqdm(train_loader, desc='Training'):\n",
    "        optimizer.zero_grad()\n",
    "        input_ids = batch['input_ids'].to(device)\n",
    "        attention_mask = batch['attention_mask'].to(device)\n",
    "        start_positions = batch['start_positions'].to(device)\n",
    "        end_positions = batch['end_positions'].to(device)\n",
    "        \n",
    "        outputs = model(input_ids=input_ids, attention_mask=attention_mask, start_positions=start_positions, end_positions=end_positions)\n",
    "        loss = outputs.loss\n",
    "        total_loss += loss.item()\n",
    "        loss.backward()\n",
    "        optimizer.step()\n",
    "        scheduler.step()\n",
    "\n",
    "    return total_loss / len(dataloader)\n",
    "\n",
    "def evaluate_model(model, dataloader):\n",
    "    model.eval()\n",
    "    wer_list = []\n",
    "    for batch in tqdm(dataloader, desc='Evaluating'):\n",
    "        input_ids = batch['input_ids'].to(device)\n",
    "        attention_mask = batch['attention_mask'].to(device)\n",
    "        start_true = batch['start_positions'].to(device)\n",
    "        end_true = batch['end_positions'].to(device)\n",
    "        with torch.no_grad():\n",
    "            outputs = model(input_ids=input_ids, attention_mask=attention_mask)\n",
    "        \n",
    "        pred_start_logits = outputs.start_logits\n",
    "        pred_end_logits = outputs.end_logits\n",
    "        \n",
    "        for i in range(len(input_ids)):\n",
    "            context = valid_contexts[i]\n",
    "            windows = split_context(context, MAX_LENGTH, doc_stride)\n",
    "            pred_start_idx = torch.argmax(pred_start_logits[i])\n",
    "            pred_end_idx = torch.argmax(pred_end_logits[i])\n",
    "            \n",
    "            # Merge predictions from overlapping windows\n",
    "        for window in windows:\n",
    "            if window['input_ids'].nonzero().numel() > 0:  # Check if there are non-zero elements\n",
    "                window_start = window['input_ids'].nonzero().min().item()\n",
    "                window_end = len(window['input_ids']) - window['input_ids'].flip(dims=[0]).nonzero().min().item()\n",
    "                if pred_start_idx >= window_start and pred_end_idx < window_end:\n",
    "                    pred_start_idx += window_start\n",
    "                    pred_end_idx += window_start\n",
    "                    break\n",
    "\n",
    "            pred_answer = distilbert_tokenizer.decode(input_ids[i][pred_start_idx:pred_end_idx+1])\n",
    "            true_answer = distilbert_tokenizer.decode(input_ids[i][start_true[i]:end_true[i]+1])\n",
    "            if true_answer.strip():  # Check if true_answer is not empty\n",
    "                wer = jiwer.wer(true_answer, pred_answer)\n",
    "                wer_list.append(wer)\n",
    "    return sum(wer_list) / len(wer_list) if wer_list else 0.0\n",
    "\n",
    "for epoch in range(EPOCHS):\n",
    "    train_loss = train_epoch(distilbert_model, train_loader, optimizer, scheduler)\n",
    "    wer_score = evaluate_model(distilbert_model, valid_loader)\n",
    "    print(f\"Epoch {epoch+1}/{EPOCHS}, Train Loss: {train_loss}, WER Score: {wer_score}\")\n"
   ]
  },
  {
   "cell_type": "code",
   "execution_count": null,
   "id": "2404fd54-2fc1-418e-9497-b44792b18e06",
   "metadata": {},
   "outputs": [],
   "source": []
  },
  {
   "cell_type": "markdown",
   "id": "7ca4a240-e91c-4c7d-877b-8728f20c6f73",
   "metadata": {},
   "source": [
    " "
   ]
  }
 ],
 "metadata": {
  "kernelspec": {
   "display_name": "Python 3 (ipykernel)",
   "language": "python",
   "name": "python3"
  },
  "language_info": {
   "codemirror_mode": {
    "name": "ipython",
    "version": 3
   },
   "file_extension": ".py",
   "mimetype": "text/x-python",
   "name": "python",
   "nbconvert_exporter": "python",
   "pygments_lexer": "ipython3",
   "version": "3.9.12"
  }
 },
 "nbformat": 4,
 "nbformat_minor": 5
}
